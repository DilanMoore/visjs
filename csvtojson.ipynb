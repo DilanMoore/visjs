{
 "cells": [
  {
   "cell_type": "code",
   "execution_count": 1,
   "id": "b2817754",
   "metadata": {},
   "outputs": [],
   "source": [
    "import pandas as pd\n",
    "import json\n",
    "\n",
    "csv = pd.read_csv('../aix-convbot-baseline/data/20240105_processed_loki_data_all.csv')\n",
    "csv = csv.filter(items=['id', \n",
    "                        'datetime', \n",
    "                        'player', \n",
    "                        'scenario', \n",
    "                        'level', \n",
    "                        'session_id', \n",
    "                        'message'])\n",
    "csv['date'] = pd.to_datetime(csv['datetime']).dt.strftime('%Y-%m-%d')\n",
    "\n",
    "csv = csv.query(\"date >= '2023-08-01'\")\n",
    "\n",
    "csv = csv.to_json(orient='records')"
   ]
  },
  {
   "cell_type": "code",
   "execution_count": 2,
   "id": "93084967",
   "metadata": {},
   "outputs": [],
   "source": [
    "with open('./jsonprocessed.json', 'w', encoding='utf-8') as jsonf:\n",
    "    jsonf.write(csv)"
   ]
  },
  {
   "cell_type": "code",
   "execution_count": null,
   "id": "1f62d942",
   "metadata": {},
   "outputs": [],
   "source": []
  },
  {
   "cell_type": "code",
   "execution_count": null,
   "id": "8279c1e7",
   "metadata": {},
   "outputs": [],
   "source": []
  }
 ],
 "metadata": {
  "kernelspec": {
   "display_name": "Python 3 (ipykernel)",
   "language": "python",
   "name": "python3"
  },
  "language_info": {
   "codemirror_mode": {
    "name": "ipython",
    "version": 3
   },
   "file_extension": ".py",
   "mimetype": "text/x-python",
   "name": "python",
   "nbconvert_exporter": "python",
   "pygments_lexer": "ipython3",
   "version": "3.10.9"
  }
 },
 "nbformat": 4,
 "nbformat_minor": 5
}
